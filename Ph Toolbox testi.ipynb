{
 "cells": [
  {
   "cell_type": "code",
   "execution_count": 8,
   "metadata": {},
   "outputs": [
    {
     "data": {
      "text/html": [
       "<div>\n",
       "<style scoped>\n",
       "    .dataframe tbody tr th:only-of-type {\n",
       "        vertical-align: middle;\n",
       "    }\n",
       "\n",
       "    .dataframe tbody tr th {\n",
       "        vertical-align: top;\n",
       "    }\n",
       "\n",
       "    .dataframe thead th {\n",
       "        text-align: right;\n",
       "    }\n",
       "</style>\n",
       "<table border=\"1\" class=\"dataframe\">\n",
       "  <thead>\n",
       "    <tr style=\"text-align: right;\">\n",
       "      <th></th>\n",
       "      <th></th>\n",
       "      <th></th>\n",
       "      <th></th>\n",
       "      <th></th>\n",
       "      <th>time;gFx;gFy;gFz;TgF</th>\n",
       "    </tr>\n",
       "  </thead>\n",
       "  <tbody>\n",
       "    <tr>\n",
       "      <th rowspan=\"5\" valign=\"top\">0</th>\n",
       "      <th rowspan=\"5\" valign=\"top\">005000;-0</th>\n",
       "      <th>2871;0</th>\n",
       "      <th>3855;0</th>\n",
       "      <th>8072;0</th>\n",
       "      <td>939</td>\n",
       "    </tr>\n",
       "    <tr>\n",
       "      <th>2878;0</th>\n",
       "      <th>3855;0</th>\n",
       "      <th>8021;0</th>\n",
       "      <td>935</td>\n",
       "    </tr>\n",
       "    <tr>\n",
       "      <th>2905;0</th>\n",
       "      <th>3850;0</th>\n",
       "      <th>7948;0</th>\n",
       "      <td>930</td>\n",
       "    </tr>\n",
       "    <tr>\n",
       "      <th>2929;0</th>\n",
       "      <th>3831;0</th>\n",
       "      <th>7901;0</th>\n",
       "      <td>926</td>\n",
       "    </tr>\n",
       "    <tr>\n",
       "      <th>2942;0</th>\n",
       "      <th>3828;0</th>\n",
       "      <th>7882;0</th>\n",
       "      <td>924</td>\n",
       "    </tr>\n",
       "  </tbody>\n",
       "</table>\n",
       "</div>"
      ],
      "text/plain": [
       "                                  time;gFx;gFy;gFz;TgF\n",
       "0 005000;-0 2871;0 3855;0 8072;0                   939\n",
       "            2878;0 3855;0 8021;0                   935\n",
       "            2905;0 3850;0 7948;0                   930\n",
       "            2929;0 3831;0 7901;0                   926\n",
       "            2942;0 3828;0 7882;0                   924"
      ]
     },
     "execution_count": 8,
     "metadata": {},
     "output_type": "execute_result"
    }
   ],
   "source": [
    "# Ph Toolboxin kiihtyvyysdataa\n",
    "import matplotlib.pyplot as plt # Matikkakirjasto\n",
    "import pandas as pd # IO-kirjasto\n",
    "\n",
    "data = pd.read_csv('Ph_Toolbox.csv') # Luetaan csv-file\n",
    "# data = pd.read_excel('Ph_Toolbox.xlsx') # Luetaan excel-file\n",
    "data.head() # Tulostetaan headerit"
   ]
  },
  {
   "cell_type": "code",
   "execution_count": 6,
   "metadata": {},
   "outputs": [],
   "source": [
    "aika = data['time']\n",
    "kokonaiskiihtyvyys = data['TgF']"
   ]
  },
  {
   "cell_type": "code",
   "execution_count": 7,
   "metadata": {},
   "outputs": [
    {
     "data": {
      "image/png": "[encoded data removed]",
      "text/plain": [
       "<Figure size 432x288 with 1 Axes>"
      ]
     },
     "metadata": {
      "needs_background": "light"
     },
     "output_type": "display_data"
    }
   ],
   "source": [
    "plt.xlabel('time (s)') # x-akselin otsikko\n",
    "plt.ylabel('F(N)') # y-akselin otsikko\n",
    "plt.title('Ph Toolbok testi (kokonaiskiihtyvyys)') # Kuvaajan otsikko\n",
    "plt.plot(aika, kokonaiskiihtyvyys)\n",
    "plt.show() # Turha kun plt.plot() piirtää kuvaajan ilmankin?"
   ]
  },
  {
   "cell_type": "code",
   "execution_count": null,
   "metadata": {},
   "outputs": [],
   "source": []
  }
 ],
 "metadata": {
  "kernelspec": {
   "display_name": "Python 3",
   "language": "python",
   "name": "python3"
  },
  "language_info": {
   "codemirror_mode": {
    "name": "ipython",
    "version": 3
   },
   "file_extension": ".py",
   "mimetype": "text/x-python",
   "name": "python",
   "nbconvert_exporter": "python",
   "pygments_lexer": "ipython3",
   "version": "3.8.5"
  }
 },
 "nbformat": 4,
 "nbformat_minor": 4
}
