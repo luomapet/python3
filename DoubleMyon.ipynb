{
 "cells": [
  {
   "cell_type": "code",
   "execution_count": 13,
   "metadata": {},
   "outputs": [],
   "source": [
    "# Aloitetaan hakemalla tarvittavat python-paketit import-komennolla\n",
    "# Voit suorittaa koodisolut Run-painikkeella tai paina CTRL+ENTER.\n",
    "\n",
    "import pandas as pd\n",
    "import matplotlib.pyplot as plt"
   ]
  },
  {
   "cell_type": "code",
   "execution_count": 14,
   "metadata": {},
   "outputs": [
    {
     "data": {
      "text/html": [
       "<div>\n",
       "<style scoped>\n",
       "    .dataframe tbody tr th:only-of-type {\n",
       "        vertical-align: middle;\n",
       "    }\n",
       "\n",
       "    .dataframe tbody tr th {\n",
       "        vertical-align: top;\n",
       "    }\n",
       "\n",
       "    .dataframe thead th {\n",
       "        text-align: right;\n",
       "    }\n",
       "</style>\n",
       "<table border=\"1\" class=\"dataframe\">\n",
       "  <thead>\n",
       "    <tr style=\"text-align: right;\">\n",
       "      <th></th>\n",
       "      <th>Run</th>\n",
       "      <th>Event</th>\n",
       "      <th>type1</th>\n",
       "      <th>Q1</th>\n",
       "      <th>pt1</th>\n",
       "      <th>eta1</th>\n",
       "      <th>phi1</th>\n",
       "      <th>E1</th>\n",
       "      <th>px1</th>\n",
       "      <th>py1</th>\n",
       "      <th>...</th>\n",
       "      <th>type2</th>\n",
       "      <th>Q2</th>\n",
       "      <th>pt2</th>\n",
       "      <th>eta2</th>\n",
       "      <th>phi2</th>\n",
       "      <th>E2</th>\n",
       "      <th>px2</th>\n",
       "      <th>py2</th>\n",
       "      <th>pz2</th>\n",
       "      <th>M</th>\n",
       "    </tr>\n",
       "  </thead>\n",
       "  <tbody>\n",
       "    <tr>\n",
       "      <th>0</th>\n",
       "      <td>166699</td>\n",
       "      <td>835716681</td>\n",
       "      <td>G</td>\n",
       "      <td>1</td>\n",
       "      <td>4.2116</td>\n",
       "      <td>2.2366</td>\n",
       "      <td>-0.4849</td>\n",
       "      <td>19.9382</td>\n",
       "      <td>3.7261</td>\n",
       "      <td>-1.9631</td>\n",
       "      <td>...</td>\n",
       "      <td>T</td>\n",
       "      <td>-1</td>\n",
       "      <td>1.2556</td>\n",
       "      <td>2.2683</td>\n",
       "      <td>-1.4488</td>\n",
       "      <td>6.1319</td>\n",
       "      <td>0.1528</td>\n",
       "      <td>-1.2463</td>\n",
       "      <td>6.0011</td>\n",
       "      <td>2.1330</td>\n",
       "    </tr>\n",
       "    <tr>\n",
       "      <th>1</th>\n",
       "      <td>166699</td>\n",
       "      <td>836133459</td>\n",
       "      <td>G</td>\n",
       "      <td>-1</td>\n",
       "      <td>2.1479</td>\n",
       "      <td>-2.0159</td>\n",
       "      <td>-2.7753</td>\n",
       "      <td>8.2066</td>\n",
       "      <td>-2.0055</td>\n",
       "      <td>-0.7692</td>\n",
       "      <td>...</td>\n",
       "      <td>G</td>\n",
       "      <td>1</td>\n",
       "      <td>19.5453</td>\n",
       "      <td>-1.0826</td>\n",
       "      <td>-0.3408</td>\n",
       "      <td>32.1613</td>\n",
       "      <td>18.4210</td>\n",
       "      <td>-6.5332</td>\n",
       "      <td>-25.5406</td>\n",
       "      <td>13.6786</td>\n",
       "    </tr>\n",
       "    <tr>\n",
       "      <th>2</th>\n",
       "      <td>166699</td>\n",
       "      <td>836165498</td>\n",
       "      <td>G</td>\n",
       "      <td>1</td>\n",
       "      <td>21.0732</td>\n",
       "      <td>1.5948</td>\n",
       "      <td>-1.1137</td>\n",
       "      <td>54.0560</td>\n",
       "      <td>9.2997</td>\n",
       "      <td>-18.9102</td>\n",
       "      <td>...</td>\n",
       "      <td>T</td>\n",
       "      <td>-1</td>\n",
       "      <td>2.3864</td>\n",
       "      <td>1.5352</td>\n",
       "      <td>-1.7388</td>\n",
       "      <td>5.7968</td>\n",
       "      <td>-0.3991</td>\n",
       "      <td>-2.3528</td>\n",
       "      <td>5.2818</td>\n",
       "      <td>4.3813</td>\n",
       "    </tr>\n",
       "    <tr>\n",
       "      <th>3</th>\n",
       "      <td>166699</td>\n",
       "      <td>836249706</td>\n",
       "      <td>G</td>\n",
       "      <td>1</td>\n",
       "      <td>18.5889</td>\n",
       "      <td>1.6422</td>\n",
       "      <td>1.1923</td>\n",
       "      <td>49.8180</td>\n",
       "      <td>6.8688</td>\n",
       "      <td>17.2734</td>\n",
       "      <td>...</td>\n",
       "      <td>G</td>\n",
       "      <td>-1</td>\n",
       "      <td>1.8721</td>\n",
       "      <td>1.9704</td>\n",
       "      <td>1.6393</td>\n",
       "      <td>6.8459</td>\n",
       "      <td>-0.1281</td>\n",
       "      <td>1.8678</td>\n",
       "      <td>6.5841</td>\n",
       "      <td>3.2587</td>\n",
       "    </tr>\n",
       "    <tr>\n",
       "      <th>4</th>\n",
       "      <td>166699</td>\n",
       "      <td>835608783</td>\n",
       "      <td>G</td>\n",
       "      <td>-1</td>\n",
       "      <td>11.8194</td>\n",
       "      <td>0.8711</td>\n",
       "      <td>-1.5811</td>\n",
       "      <td>16.5947</td>\n",
       "      <td>-0.1214</td>\n",
       "      <td>-11.8187</td>\n",
       "      <td>...</td>\n",
       "      <td>T</td>\n",
       "      <td>1</td>\n",
       "      <td>0.9408</td>\n",
       "      <td>2.0107</td>\n",
       "      <td>-1.6559</td>\n",
       "      <td>3.5779</td>\n",
       "      <td>-0.0799</td>\n",
       "      <td>-0.9374</td>\n",
       "      <td>3.4504</td>\n",
       "      <td>4.0171</td>\n",
       "    </tr>\n",
       "  </tbody>\n",
       "</table>\n",
       "<p>5 rows × 21 columns</p>\n",
       "</div>"
      ],
      "text/plain": [
       "      Run      Event type1  Q1      pt1    eta1    phi1       E1     px1  \\\n",
       "0  166699  835716681     G   1   4.2116  2.2366 -0.4849  19.9382  3.7261   \n",
       "1  166699  836133459     G  -1   2.1479 -2.0159 -2.7753   8.2066 -2.0055   \n",
       "2  166699  836165498     G   1  21.0732  1.5948 -1.1137  54.0560  9.2997   \n",
       "3  166699  836249706     G   1  18.5889  1.6422  1.1923  49.8180  6.8688   \n",
       "4  166699  835608783     G  -1  11.8194  0.8711 -1.5811  16.5947 -0.1214   \n",
       "\n",
       "       py1  ...  type2 Q2      pt2    eta2    phi2       E2      px2     py2  \\\n",
       "0  -1.9631  ...      T -1   1.2556  2.2683 -1.4488   6.1319   0.1528 -1.2463   \n",
       "1  -0.7692  ...      G  1  19.5453 -1.0826 -0.3408  32.1613  18.4210 -6.5332   \n",
       "2 -18.9102  ...      T -1   2.3864  1.5352 -1.7388   5.7968  -0.3991 -2.3528   \n",
       "3  17.2734  ...      G -1   1.8721  1.9704  1.6393   6.8459  -0.1281  1.8678   \n",
       "4 -11.8187  ...      T  1   0.9408  2.0107 -1.6559   3.5779  -0.0799 -0.9374   \n",
       "\n",
       "       pz2        M  \n",
       "0   6.0011   2.1330  \n",
       "1 -25.5406  13.6786  \n",
       "2   5.2818   4.3813  \n",
       "3   6.5841   3.2587  \n",
       "4   3.4504   4.0171  \n",
       "\n",
       "[5 rows x 21 columns]"
      ]
     },
     "execution_count": 14,
     "metadata": {},
     "output_type": "execute_result"
    }
   ],
   "source": [
    "# Luetaan datatiedoston sisältö ja tallennetaan tiedot muuttujaan \"kaksi_myonia\"\n",
    "# File netissä cern open data portal \n",
    "# https://opendata.cern.ch/search?page=1&size=20&q=two%20myon%20\n",
    "kaksi_myonia = pd.read_csv('https://opendata.cern.ch/record/545/files/Dimuon_SingleMu.csv')\n",
    "\n",
    "# Tarkastellaan miltä data näyttää\n",
    "kaksi_myonia.head()"
   ]
  },
  {
   "cell_type": "code",
   "execution_count": 15,
   "metadata": {},
   "outputs": [
    {
     "data": {
      "text/plain": [
       "83761"
      ]
     },
     "execution_count": 15,
     "metadata": {},
     "output_type": "execute_result"
    }
   ],
   "source": [
    "# Katsotaan vielä, kuinka monta riviä dataa tiedostossa on\n",
    "len(kaksi_myonia)"
   ]
  },
  {
   "cell_type": "code",
   "execution_count": 16,
   "metadata": {},
   "outputs": [],
   "source": [
    "# Invariantti massa voitaisiin laskea itse.\n",
    "# Se löytyy kuitenkin valmiiksi laskettuna jo datasetin viimeisestä sarakkeesta \"M\", joten käytetään sitä.\n",
    "# Tallennetaan invarianttien massojen sarake omaan muuttujaan\n",
    "invariantti_massa = kaksi_myonia['M']"
   ]
  },
  {
   "cell_type": "code",
   "execution_count": 17,
   "metadata": {},
   "outputs": [
    {
     "data": {
      "image/png": "[encoded data removed]",
      "text/plain": [
       "<Figure size 1080x720 with 1 Axes>"
      ]
     },
     "metadata": {
      "needs_background": "light"
     },
     "output_type": "display_data"
    }
   ],
   "source": [
    "# Piirretään histogrammi kahden myonin invarianteista massoista 300 pylväällä\n",
    "fig = plt.figure(figsize=(15, 10))\n",
    "plt.hist(invariantti_massa , bins=300)\n",
    "\n",
    "# Näillä riveillä määritellään otsikko sekä akseleiden tekstit.\n",
    "plt.xlabel('Invariantti massa [GeV/c²]', fontsize=15)\n",
    "plt.ylabel('Tapahtumien lukumäärä', fontsize=15)\n",
    "plt.title('Kahden myonin invariantti massa', fontsize=15)\n",
    "\n",
    "# Näytetään kuvaaja\n",
    "plt.show()"
   ]
  },
  {
   "cell_type": "code",
   "execution_count": 18,
   "metadata": {},
   "outputs": [
    {
     "data": {
      "image/png": "[encoded data removed]",
      "text/plain": [
       "<Figure size 1080x720 with 1 Axes>"
      ]
     },
     "metadata": {
      "needs_background": "light"
     },
     "output_type": "display_data"
    }
   ],
   "source": [
    "# Piirretään histogrammi kahden myonin invarianteista massoista 100 pylväällä välillä 80 GeV - 100 GeV\n",
    "fig = plt.figure(figsize=(15, 10))\n",
    "plt.hist(invariantti_massa , bins=100, range=(5,10)) # Zoomattu 5...10 GeV\n",
    "\n",
    "# Näillä riveillä määritellään otsikko sekä akseleiden tekstit.\n",
    "plt.xlabel('Invariantti massa [GeV/c²]', fontsize=15)\n",
    "plt.ylabel('Tapahtumien lukumäärä', fontsize=15)\n",
    "plt.title('Kahden myonin invariantti massa', fontsize=15)\n",
    "\n",
    "# Näytetään kuvaaja\n",
    "plt.show()"
   ]
  }
 ],
 "metadata": {
  "kernelspec": {
   "display_name": "Python 3",
   "language": "python",
   "name": "python3"
  },
  "language_info": {
   "codemirror_mode": {
    "name": "ipython",
    "version": 3
   },
   "file_extension": ".py",
   "mimetype": "text/x-python",
   "name": "python",
   "nbconvert_exporter": "python",
   "pygments_lexer": "ipython3",
   "version": "3.8.5"
  }
 },
 "nbformat": 4,
 "nbformat_minor": 4
}
