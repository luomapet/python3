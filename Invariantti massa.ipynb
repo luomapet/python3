{
 "cells": [
  {
   "cell_type": "markdown",
   "metadata": {},
   "source": [
    "Invariantin massan laskeminen\n",
    "\n",
    "Tässä tehtävässä harjoitellaan laskemaan CMS-ilmaisimessa havaittujen hiukkasten invariantti massa. Invariantti massa on hiukkasfyysikoille tärkeä työkalu hiukkasten tunnistamisessa.\n",
    "\n",
    "Mikä on invariantti massa?\n",
    "Kun hiukkaskiihdyttimessä törmäytetään hiukkasia, vapautuu valtava määrä energiaa, josta muodostuu uusia hiukkasia. Jotkin törmäyksessä syntyneet hiukkaset, kuten esimerkiksi Higgsin hiukkanen, ovat hyvin lyhytikäisiä ja hajoavat muiksi hiukkasiksi kauan ennenkuin ne päätyvät hiukkasilmaisimen detektoreihin. Hajoamistuotteina syntyneet hiukkasia voidaan kuitenkin havaita, ja näiden ominaisuuksia mittaamalla voimme päätellä, mistä hiukkasesta ne olivat alunperin peräisin (ja löytää todisteet esimerkiksi Higgsin olemassaololle). CMS:n kaltainen laite voi mitata hiukkasten liikemäärää ja energiaa, joiden avulla voidaan laskea invariantti massa. Se on matemaattinen arvo joka on \"invariantti\" mittausympäristölle, eli se voidaan laskea missä ja mille tahansa. Jos sen kuitenkin laskee tietystä hajoamisesta syntyneille \"tytärhiukkasille\" saadaan arvo joka on lähellä emohiukkasen massaa. Esimerkiksi Higgsin hiukkanen voi hajota neljäksi myoniksi, joiden liikemäärän ja energian voimme mitata hiukkasilmaisimella. Näiden neljän myonin liikemäärästä ja energiasta voimme laskea invariantin massan, joka vastaisi Higgsin hiukkasen massaa, sillä myonit ovat peräisin Higgsistä.\n",
    "\n",
    "Invariantti massa siis säilyy hiukkasen hajotessa uusiksi hiukkasiksi. Tämän ominaisuuden ansiosta se on voittamaton työkalu kokeellisen hiukkasfysiikan tutkijoille. Hiukkasilmaisin, kuten CMS, havaitsee lähinnä stabiileja hiukkasia. Määrittääkseen sen, minkä hiukkasen hajoamisesta nuo stabiilit hiukkaset ovat peräisin, tutkijoiden tulee tarkastella suuria datamääriä. Voimme laskea invariantin massan usealle eri hajoamistapahtumalle ja piirtää kaikista laskemistamme invarianteista massoista histogrammi. Lisätietoa englanniksi: https://profmattstrassler.com/articles-and-posts/particle-physics-basics/mass-energy-matter-etc/mass-and-energy/\n",
    "\n",
    "Alla olevassa kuvassa on piirretty invariantin massan histogrammi sellaisista törmäyksistä, joissa hiukkasilmaisin on havainnut kaksi myonia. Piikit histogrammissa vastaavat emohiukkasta, josta myonit ovat peräisin.\n",
    "\n",
    "Datan hakeminen\n",
    "Tarkoituksenamme on piirtää invariantin massan histogrammi CMS:n avoimesta datasta vuodelta 2011. Dataan on valikoitu tapahtumia joissa syntyy kaksi myonia [1]. Data löytyy CERN:n Open Data Portaalista [2], ja sitä voi käyttää pd.read_csv()-funktiossa nimellä http://opendata.cern.ch/record/5206/files/Ymumu.csv. Histogrammin piirtämistä varten meidän tulee kuitenkin laskea jokaiselle tapahtumalle invariantti massa. Alustetaan lasku hakemalla käyttämämme data sekä tarvittavat Python-paketit."
   ]
  },
  {
   "cell_type": "code",
   "execution_count": 20,
   "metadata": {},
   "outputs": [
    {
     "data": {
      "text/html": [
       "<div>\n",
       "<style scoped>\n",
       "    .dataframe tbody tr th:only-of-type {\n",
       "        vertical-align: middle;\n",
       "    }\n",
       "\n",
       "    .dataframe tbody tr th {\n",
       "        vertical-align: top;\n",
       "    }\n",
       "\n",
       "    .dataframe thead th {\n",
       "        text-align: right;\n",
       "    }\n",
       "</style>\n",
       "<table border=\"1\" class=\"dataframe\">\n",
       "  <thead>\n",
       "    <tr style=\"text-align: right;\">\n",
       "      <th></th>\n",
       "      <th>Run</th>\n",
       "      <th>Event</th>\n",
       "      <th>type1</th>\n",
       "      <th>E1</th>\n",
       "      <th>px1</th>\n",
       "      <th>py1</th>\n",
       "      <th>pz1</th>\n",
       "      <th>pt1</th>\n",
       "      <th>eta1</th>\n",
       "      <th>phi1</th>\n",
       "      <th>Q1</th>\n",
       "      <th>type2</th>\n",
       "      <th>E2</th>\n",
       "      <th>px2</th>\n",
       "      <th>py2</th>\n",
       "      <th>pz2</th>\n",
       "      <th>pt2</th>\n",
       "      <th>eta2</th>\n",
       "      <th>phi2</th>\n",
       "      <th>Q2</th>\n",
       "    </tr>\n",
       "  </thead>\n",
       "  <tbody>\n",
       "    <tr>\n",
       "      <th>0</th>\n",
       "      <td>165617</td>\n",
       "      <td>75100943</td>\n",
       "      <td>G</td>\n",
       "      <td>6.2039</td>\n",
       "      <td>-4.2666</td>\n",
       "      <td>0.4565</td>\n",
       "      <td>-4.4793</td>\n",
       "      <td>4.2910</td>\n",
       "      <td>-0.9121</td>\n",
       "      <td>3.0350</td>\n",
       "      <td>-1</td>\n",
       "      <td>G</td>\n",
       "      <td>9.6690</td>\n",
       "      <td>7.2740</td>\n",
       "      <td>-2.8211</td>\n",
       "      <td>-5.7104</td>\n",
       "      <td>7.8019</td>\n",
       "      <td>-0.6786</td>\n",
       "      <td>-0.3700</td>\n",
       "      <td>1</td>\n",
       "    </tr>\n",
       "    <tr>\n",
       "      <th>1</th>\n",
       "      <td>165617</td>\n",
       "      <td>75587682</td>\n",
       "      <td>G</td>\n",
       "      <td>19.2892</td>\n",
       "      <td>-4.2121</td>\n",
       "      <td>-0.6516</td>\n",
       "      <td>18.8121</td>\n",
       "      <td>4.2622</td>\n",
       "      <td>2.1905</td>\n",
       "      <td>-2.9881</td>\n",
       "      <td>-1</td>\n",
       "      <td>G</td>\n",
       "      <td>9.8244</td>\n",
       "      <td>4.3439</td>\n",
       "      <td>-0.4735</td>\n",
       "      <td>8.7985</td>\n",
       "      <td>4.3697</td>\n",
       "      <td>1.4497</td>\n",
       "      <td>-0.1086</td>\n",
       "      <td>1</td>\n",
       "    </tr>\n",
       "    <tr>\n",
       "      <th>2</th>\n",
       "      <td>165617</td>\n",
       "      <td>75167029</td>\n",
       "      <td>G</td>\n",
       "      <td>9.7583</td>\n",
       "      <td>2.3903</td>\n",
       "      <td>-3.7824</td>\n",
       "      <td>8.6715</td>\n",
       "      <td>4.4744</td>\n",
       "      <td>1.4156</td>\n",
       "      <td>-1.0072</td>\n",
       "      <td>-1</td>\n",
       "      <td>G</td>\n",
       "      <td>13.5684</td>\n",
       "      <td>-3.3975</td>\n",
       "      <td>5.1910</td>\n",
       "      <td>12.0665</td>\n",
       "      <td>6.2039</td>\n",
       "      <td>1.4187</td>\n",
       "      <td>2.1503</td>\n",
       "      <td>1</td>\n",
       "    </tr>\n",
       "    <tr>\n",
       "      <th>3</th>\n",
       "      <td>165617</td>\n",
       "      <td>75281957</td>\n",
       "      <td>G</td>\n",
       "      <td>9.6365</td>\n",
       "      <td>1.6516</td>\n",
       "      <td>-5.4313</td>\n",
       "      <td>7.7862</td>\n",
       "      <td>5.6769</td>\n",
       "      <td>1.1213</td>\n",
       "      <td>-1.2756</td>\n",
       "      <td>1</td>\n",
       "      <td>G</td>\n",
       "      <td>7.0263</td>\n",
       "      <td>-1.6449</td>\n",
       "      <td>4.4418</td>\n",
       "      <td>5.1887</td>\n",
       "      <td>4.7366</td>\n",
       "      <td>0.9473</td>\n",
       "      <td>1.9255</td>\n",
       "      <td>-1</td>\n",
       "    </tr>\n",
       "    <tr>\n",
       "      <th>4</th>\n",
       "      <td>165617</td>\n",
       "      <td>75393376</td>\n",
       "      <td>G</td>\n",
       "      <td>6.0112</td>\n",
       "      <td>3.3614</td>\n",
       "      <td>2.8883</td>\n",
       "      <td>4.0598</td>\n",
       "      <td>4.4318</td>\n",
       "      <td>0.8208</td>\n",
       "      <td>0.7098</td>\n",
       "      <td>-1</td>\n",
       "      <td>G</td>\n",
       "      <td>7.7557</td>\n",
       "      <td>-5.0416</td>\n",
       "      <td>-3.0126</td>\n",
       "      <td>5.0642</td>\n",
       "      <td>5.8731</td>\n",
       "      <td>0.7806</td>\n",
       "      <td>-2.6030</td>\n",
       "      <td>1</td>\n",
       "    </tr>\n",
       "  </tbody>\n",
       "</table>\n",
       "</div>"
      ],
      "text/plain": [
       "      Run     Event type1       E1     px1     py1      pz1     pt1    eta1  \\\n",
       "0  165617  75100943     G   6.2039 -4.2666  0.4565  -4.4793  4.2910 -0.9121   \n",
       "1  165617  75587682     G  19.2892 -4.2121 -0.6516  18.8121  4.2622  2.1905   \n",
       "2  165617  75167029     G   9.7583  2.3903 -3.7824   8.6715  4.4744  1.4156   \n",
       "3  165617  75281957     G   9.6365  1.6516 -5.4313   7.7862  5.6769  1.1213   \n",
       "4  165617  75393376     G   6.0112  3.3614  2.8883   4.0598  4.4318  0.8208   \n",
       "\n",
       "     phi1  Q1 type2       E2     px2     py2      pz2     pt2    eta2    phi2  \\\n",
       "0  3.0350  -1     G   9.6690  7.2740 -2.8211  -5.7104  7.8019 -0.6786 -0.3700   \n",
       "1 -2.9881  -1     G   9.8244  4.3439 -0.4735   8.7985  4.3697  1.4497 -0.1086   \n",
       "2 -1.0072  -1     G  13.5684 -3.3975  5.1910  12.0665  6.2039  1.4187  2.1503   \n",
       "3 -1.2756   1     G   7.0263 -1.6449  4.4418   5.1887  4.7366  0.9473  1.9255   \n",
       "4  0.7098  -1     G   7.7557 -5.0416 -3.0126   5.0642  5.8731  0.7806 -2.6030   \n",
       "\n",
       "   Q2  \n",
       "0   1  \n",
       "1   1  \n",
       "2   1  \n",
       "3  -1  \n",
       "4   1  "
      ]
     },
     "execution_count": 20,
     "metadata": {},
     "output_type": "execute_result"
    }
   ],
   "source": [
    "# Haetaan tarvittavat paketit\n",
    "\n",
    "import pandas as pd\n",
    "import matplotlib.pyplot as plt\n",
    "import numpy as np\n",
    "\n",
    "# Lue data yllä olevasta tiedostopolusta ja tallenna se muuttujaan data\n",
    "data = pd.read_csv(\"http://opendata.cern.ch/record/5206/files/Ymumu.csv\")\n",
    "\n",
    "# Katso datan muutama ensimmäinen rivi käyttäen head()-funktiota\n",
    "data.head()\n"
   ]
  },
  {
   "cell_type": "markdown",
   "metadata": {},
   "source": [
    "Invariantin massan laskeminen\n",
    "Invariantti massa voidaan laskea havaittujen hiukkasten energioiden ja liikemäärien avulla. Kahden hiukkasen tapauksessa invariantti massa on:\n",
    "\n",
    "𝑀=sqrt[(𝐸1+𝐸2)^2−‖𝐩1+𝐩2‖^2],\n",
    "missä ‖𝐩1+𝐩2‖=(𝑝𝑥1+px2)^2+(𝑝𝑦1+𝑝𝑦2)^2+(𝑝𝑧1+𝑝𝑧2)^2.\n",
    "\n",
    "Laskussa voidaan käyttää apuna numpy-pakettia, jonka nimesimme yllä np:ksi. Numpyn avulla voimme mm. suorittaa matemaattisia komentoja, joista neliöjuurta (sqrt) tarvitsemme invariantin massan laskemisessa. Potenssiin kaksi on x**2"
   ]
  },
  {
   "cell_type": "code",
   "execution_count": 22,
   "metadata": {},
   "outputs": [],
   "source": [
    "# Laske invariantti massa ja tallenna muuttujaan invariantti_massa\n",
    "invariantti_massa = np.sqrt((data['E1']+data['E2'])**2-((data['px1']+data['px2'])**2+(data['py1']+data['py2'])**2+(data['pz1']+data['pz2'])**2))"
   ]
  },
  {
   "cell_type": "code",
   "execution_count": 23,
   "metadata": {},
   "outputs": [
    {
     "data": {
      "text/plain": [
       "0    11.553492\n",
       "1     9.163692\n",
       "2    10.539055\n",
       "3    10.407772\n",
       "4    10.170626\n",
       "dtype: float64"
      ]
     },
     "execution_count": 23,
     "metadata": {},
     "output_type": "execute_result"
    }
   ],
   "source": [
    "# Tulosta näytölle muuttujan invariantti_massa viisi ensimmäistä riviä (vinkki: käytä head()-funktiota)\n",
    "\n",
    "invariantti_massa.head()"
   ]
  },
  {
   "cell_type": "code",
   "execution_count": 25,
   "metadata": {},
   "outputs": [
    {
     "data": {
      "image/png": "[encoded data removed]",
      "text/plain": [
       "<Figure size 1080x720 with 1 Axes>"
      ]
     },
     "metadata": {
      "needs_background": "light"
     },
     "output_type": "display_data"
    }
   ],
   "source": [
    "# Piirretään histogrammi kahden myonin invarianteista massoista 100 pylväällä\n",
    "fig = plt.figure(figsize=(15, 10)) # Annetaan kuvan koko\n",
    "plt.hist(invariantti_massa , bins=200)\n",
    "\n",
    "# Näillä riveillä määritellään otsikko sekä akseleiden tekstit.\n",
    "plt.xlabel('Invariantti massa [GeV/c²]', fontsize=15)\n",
    "plt.ylabel('Tapahtumien lukumäärä', fontsize=15)\n",
    "plt.title('Kahden myonin invariantti massa', fontsize=15)\n",
    "\n",
    "# Näytetään kuvaaja\n",
    "plt.show()"
   ]
  },
  {
   "cell_type": "markdown",
   "metadata": {},
   "source": [
    "Korkein piikki n. 9.5 GeV/c^2. Olisko \n",
    "\"The Upsilon meson (ϒ) is a quarkonium state (i.e. flavourless meson) formed from a bottom quark and its antiparticle. It was discovered by the E288 experiment team, headed by Leon Lederman, at Fermilab in 1977, and was the first particle containing a bottom quark to be discovered because it is the lightest that can be produced without additional massive particles. It has a lifetime of 1.21×10e−20 s and a mass about 9.46 GeV/c2 in the ground state."
   ]
  }
 ],
 "metadata": {
  "kernelspec": {
   "display_name": "Python 3",
   "language": "python",
   "name": "python3"
  },
  "language_info": {
   "codemirror_mode": {
    "name": "ipython",
    "version": 3
   },
   "file_extension": ".py",
   "mimetype": "text/x-python",
   "name": "python",
   "nbconvert_exporter": "python",
   "pygments_lexer": "ipython3",
   "version": "3.8.5"
  }
 },
 "nbformat": 4,
 "nbformat_minor": 4
}
